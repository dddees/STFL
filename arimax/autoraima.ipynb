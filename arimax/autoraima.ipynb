{
 "cells": [
  {
   "cell_type": "code",
   "execution_count": 1,
   "metadata": {},
   "outputs": [
    {
     "name": "stderr",
     "output_type": "stream",
     "text": [
      "C:\\Users\\pawel\\miniconda3\\envs\\datascience3.10\\lib\\site-packages\\statsforecast\\core.py:26: TqdmExperimentalWarning: Using `tqdm.autonotebook.tqdm` in notebook mode. Use `tqdm.tqdm` instead to force console mode (e.g. in jupyter console)\n",
      "  from tqdm.autonotebook import tqdm\n",
      "C:\\Users\\pawel\\miniconda3\\envs\\datascience3.10\\lib\\site-packages\\statsforecast\\utils.py:237: FutureWarning: 'M' is deprecated and will be removed in a future version, please use 'ME' instead.\n",
      "  \"ds\": pd.date_range(start=\"1949-01-01\", periods=len(AirPassengers), freq=\"M\"),\n"
     ]
    }
   ],
   "source": [
    "\n",
    "import pandas as pd\n",
    "\n",
    "import numpy as np\n",
    "\n",
    "from statsforecast.models import AutoARIMA\n",
    "\n"
   ]
  },
  {
   "cell_type": "code",
   "execution_count": 2,
   "metadata": {},
   "outputs": [
    {
     "data": {
      "text/html": [
       "<div>\n",
       "<style scoped>\n",
       "    .dataframe tbody tr th:only-of-type {\n",
       "        vertical-align: middle;\n",
       "    }\n",
       "\n",
       "    .dataframe tbody tr th {\n",
       "        vertical-align: top;\n",
       "    }\n",
       "\n",
       "    .dataframe thead th {\n",
       "        text-align: right;\n",
       "    }\n",
       "</style>\n",
       "<table border=\"1\" class=\"dataframe\">\n",
       "  <thead>\n",
       "    <tr style=\"text-align: right;\">\n",
       "      <th></th>\n",
       "      <th>PSEforecast</th>\n",
       "      <th>Load</th>\n",
       "      <th>holiday</th>\n",
       "      <th>TD</th>\n",
       "      <th>TG</th>\n",
       "      <th>TD[6, 0, 1]</th>\n",
       "    </tr>\n",
       "    <tr>\n",
       "      <th>Time</th>\n",
       "      <th></th>\n",
       "      <th></th>\n",
       "      <th></th>\n",
       "      <th></th>\n",
       "      <th></th>\n",
       "      <th></th>\n",
       "    </tr>\n",
       "  </thead>\n",
       "  <tbody>\n",
       "    <tr>\n",
       "      <th>2015-01-10 00:00:00+01:00</th>\n",
       "      <td>17000.0</td>\n",
       "      <td>17109.375</td>\n",
       "      <td>False</td>\n",
       "      <td>-2279.250</td>\n",
       "      <td>-48.125</td>\n",
       "      <td>NaN</td>\n",
       "    </tr>\n",
       "    <tr>\n",
       "      <th>2015-01-10 01:00:00+01:00</th>\n",
       "      <td>16200.0</td>\n",
       "      <td>16438.150</td>\n",
       "      <td>False</td>\n",
       "      <td>-2234.775</td>\n",
       "      <td>-46.600</td>\n",
       "      <td>NaN</td>\n",
       "    </tr>\n",
       "    <tr>\n",
       "      <th>2015-01-10 02:00:00+01:00</th>\n",
       "      <td>15800.0</td>\n",
       "      <td>16122.300</td>\n",
       "      <td>False</td>\n",
       "      <td>-2148.525</td>\n",
       "      <td>-8.800</td>\n",
       "      <td>NaN</td>\n",
       "    </tr>\n",
       "    <tr>\n",
       "      <th>2015-01-10 03:00:00+01:00</th>\n",
       "      <td>15700.0</td>\n",
       "      <td>15987.900</td>\n",
       "      <td>False</td>\n",
       "      <td>-2082.875</td>\n",
       "      <td>26.000</td>\n",
       "      <td>NaN</td>\n",
       "    </tr>\n",
       "    <tr>\n",
       "      <th>2015-01-10 04:00:00+01:00</th>\n",
       "      <td>15700.0</td>\n",
       "      <td>15951.900</td>\n",
       "      <td>False</td>\n",
       "      <td>-2266.525</td>\n",
       "      <td>-220.775</td>\n",
       "      <td>NaN</td>\n",
       "    </tr>\n",
       "    <tr>\n",
       "      <th>...</th>\n",
       "      <td>...</td>\n",
       "      <td>...</td>\n",
       "      <td>...</td>\n",
       "      <td>...</td>\n",
       "      <td>...</td>\n",
       "      <td>...</td>\n",
       "    </tr>\n",
       "    <tr>\n",
       "      <th>2024-02-28 17:00:00+01:00</th>\n",
       "      <td>23557.0</td>\n",
       "      <td>23578.163</td>\n",
       "      <td>False</td>\n",
       "      <td>576.713</td>\n",
       "      <td>-110.000</td>\n",
       "      <td>NaN</td>\n",
       "    </tr>\n",
       "    <tr>\n",
       "      <th>2024-02-28 18:00:00+01:00</th>\n",
       "      <td>23558.0</td>\n",
       "      <td>23746.113</td>\n",
       "      <td>False</td>\n",
       "      <td>507.601</td>\n",
       "      <td>242.325</td>\n",
       "      <td>NaN</td>\n",
       "    </tr>\n",
       "    <tr>\n",
       "      <th>2024-02-28 19:00:00+01:00</th>\n",
       "      <td>23408.0</td>\n",
       "      <td>23638.600</td>\n",
       "      <td>False</td>\n",
       "      <td>518.563</td>\n",
       "      <td>95.812</td>\n",
       "      <td>NaN</td>\n",
       "    </tr>\n",
       "    <tr>\n",
       "      <th>2024-02-28 20:00:00+01:00</th>\n",
       "      <td>22906.0</td>\n",
       "      <td>23026.875</td>\n",
       "      <td>False</td>\n",
       "      <td>595.200</td>\n",
       "      <td>0.425</td>\n",
       "      <td>NaN</td>\n",
       "    </tr>\n",
       "    <tr>\n",
       "      <th>2024-02-28 21:00:00+01:00</th>\n",
       "      <td>21754.0</td>\n",
       "      <td>21487.613</td>\n",
       "      <td>False</td>\n",
       "      <td>571.750</td>\n",
       "      <td>-84.275</td>\n",
       "      <td>NaN</td>\n",
       "    </tr>\n",
       "  </tbody>\n",
       "</table>\n",
       "<p>80086 rows × 6 columns</p>\n",
       "</div>"
      ],
      "text/plain": [
       "                           PSEforecast       Load  holiday        TD       TG  \\\n",
       "Time                                                                            \n",
       "2015-01-10 00:00:00+01:00      17000.0  17109.375    False -2279.250  -48.125   \n",
       "2015-01-10 01:00:00+01:00      16200.0  16438.150    False -2234.775  -46.600   \n",
       "2015-01-10 02:00:00+01:00      15800.0  16122.300    False -2148.525   -8.800   \n",
       "2015-01-10 03:00:00+01:00      15700.0  15987.900    False -2082.875   26.000   \n",
       "2015-01-10 04:00:00+01:00      15700.0  15951.900    False -2266.525 -220.775   \n",
       "...                                ...        ...      ...       ...      ...   \n",
       "2024-02-28 17:00:00+01:00      23557.0  23578.163    False   576.713 -110.000   \n",
       "2024-02-28 18:00:00+01:00      23558.0  23746.113    False   507.601  242.325   \n",
       "2024-02-28 19:00:00+01:00      23408.0  23638.600    False   518.563   95.812   \n",
       "2024-02-28 20:00:00+01:00      22906.0  23026.875    False   595.200    0.425   \n",
       "2024-02-28 21:00:00+01:00      21754.0  21487.613    False   571.750  -84.275   \n",
       "\n",
       "                           TD[6, 0, 1]  \n",
       "Time                                    \n",
       "2015-01-10 00:00:00+01:00          NaN  \n",
       "2015-01-10 01:00:00+01:00          NaN  \n",
       "2015-01-10 02:00:00+01:00          NaN  \n",
       "2015-01-10 03:00:00+01:00          NaN  \n",
       "2015-01-10 04:00:00+01:00          NaN  \n",
       "...                                ...  \n",
       "2024-02-28 17:00:00+01:00          NaN  \n",
       "2024-02-28 18:00:00+01:00          NaN  \n",
       "2024-02-28 19:00:00+01:00          NaN  \n",
       "2024-02-28 20:00:00+01:00          NaN  \n",
       "2024-02-28 21:00:00+01:00          NaN  \n",
       "\n",
       "[80086 rows x 6 columns]"
      ]
     },
     "execution_count": 2,
     "metadata": {},
     "output_type": "execute_result"
    }
   ],
   "source": [
    "df=pd.read_csv(\"TDinprogress.csv\")\n",
    "df.rename({'Unnamed: 0':'Time'},axis=1,inplace=True)\n",
    "df['Time']=pd.to_datetime(df.Time,utc=True)\n",
    "df.set_index('Time',inplace=True,drop=True)\n",
    "df.index=df.index.tz_convert('Europe/Warsaw')\n",
    "df\n"
   ]
  },
  {
   "cell_type": "code",
   "execution_count": 3,
   "metadata": {},
   "outputs": [
    {
     "data": {
      "text/plain": [
       "array([datetime.date(2015, 8, 15), datetime.date(2015, 12, 26),\n",
       "       datetime.date(2017, 11, 11), datetime.date(2018, 1, 6),\n",
       "       datetime.date(2020, 8, 15), datetime.date(2020, 12, 26),\n",
       "       datetime.date(2021, 5, 1), datetime.date(2021, 12, 25),\n",
       "       datetime.date(2022, 1, 1), datetime.date(2023, 11, 11),\n",
       "       datetime.date(2024, 1, 6)], dtype=object)"
      ]
     },
     "execution_count": 3,
     "metadata": {},
     "output_type": "execute_result"
    }
   ],
   "source": [
    "np.unique(df.loc[(df.holiday==True)&(df.index.dayofweek==5)].index.date)"
   ]
  },
  {
   "cell_type": "code",
   "execution_count": 4,
   "metadata": {},
   "outputs": [],
   "source": [
    "def dataSplit(dataframe,end_train):\n",
    "    day=pd.to_timedelta(1,'d')\n",
    "    year=pd.Timedelta(365,'d')\n",
    "    train_data=dataframe.loc[dataframe.index<end_train]\n",
    "    test_data=dataframe.loc[(dataframe.index>=end_train)&(dataframe.index.date<end_train.date()+day+day)]\n",
    "    return train_data,test_data\n"
   ]
  },
  {
   "cell_type": "code",
   "execution_count": 5,
   "metadata": {},
   "outputs": [],
   "source": [
    "end_train=pd.to_datetime('2022-02-28 10:00',utc=True).tz_convert('Europe/Warsaw')\n",
    "day=pd.to_timedelta(1,'day')\n",
    "\n",
    "trainData,testData=dataSplit(df,end_train)\n",
    "\n",
    "\n",
    "\n"
   ]
  },
  {
   "cell_type": "code",
   "execution_count": 6,
   "metadata": {},
   "outputs": [
    {
     "ename": "NameError",
     "evalue": "name 'pytho' is not defined",
     "output_type": "error",
     "traceback": [
      "\u001b[1;31m---------------------------------------------------------------------------\u001b[0m",
      "\u001b[1;31mNameError\u001b[0m                                 Traceback (most recent call last)",
      "Cell \u001b[1;32mIn[6], line 1\u001b[0m\n\u001b[1;32m----> 1\u001b[0m \u001b[43mpytho\u001b[49m\n",
      "\u001b[1;31mNameError\u001b[0m: name 'pytho' is not defined"
     ]
    }
   ],
   "source": []
  },
  {
   "cell_type": "code",
   "execution_count": null,
   "metadata": {},
   "outputs": [],
   "source": [
    "model=AutoARIMA(max_p=12,max_q=12,stepwise=False,season_length=24,prediction_intervals=37,trace=True)\n",
    "model.fit(y=trainData.TD.values,X=trainData.holiday.astype(float).values.reshape(-1,1))"
   ]
  },
  {
   "cell_type": "code",
   "execution_count": null,
   "metadata": {},
   "outputs": [],
   "source": []
  }
 ],
 "metadata": {
  "kernelspec": {
   "display_name": "Python 3 (ipykernel)",
   "language": "python",
   "name": "python3"
  },
  "language_info": {
   "codemirror_mode": {
    "name": "ipython",
    "version": 3
   },
   "file_extension": ".py",
   "mimetype": "text/x-python",
   "name": "python",
   "nbconvert_exporter": "python",
   "pygments_lexer": "ipython3",
   "version": "3.10.13"
  }
 },
 "nbformat": 4,
 "nbformat_minor": 4
}
