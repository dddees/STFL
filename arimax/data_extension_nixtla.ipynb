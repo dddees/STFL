{
 "cells": [
  {
   "cell_type": "code",
   "execution_count": 1,
   "metadata": {},
   "outputs": [
    {
     "name": "stderr",
     "output_type": "stream",
     "text": [
      "/home/wapun/anaconda3/envs/datascience/lib/python3.10/site-packages/statsforecast/core.py:26: TqdmWarning: IProgress not found. Please update jupyter and ipywidgets. See https://ipywidgets.readthedocs.io/en/stable/user_install.html\n",
      "  from tqdm.autonotebook import tqdm\n"
     ]
    }
   ],
   "source": [
    "import pandas as pd\n",
    "import holidays\n",
    "import numpy as np\n",
    "\n",
    "from statsforecast.models import ARIMA\n",
    "\n",
    "from sklearn.metrics import mean_absolute_percentage_error, mean_absolute_error,mean_squared_error\n",
    "import gc\n",
    "from statsforecast.models import AutoARIMA"
   ]
  },
  {
   "cell_type": "code",
   "execution_count": 2,
   "metadata": {},
   "outputs": [],
   "source": [
    "df=pd.read_csv('/home/wapun/Documents/demand/collection/Load.csv')\n",
    "df.rename({'Unnamed: 0':'Time'},axis=1,inplace=True)\n",
    "df['Time']=pd.to_datetime(df.Time,utc=True)\n",
    "df.set_index('Time',inplace=True,drop=True)\n",
    "df.index=df.index.tz_convert('Europe/Warsaw')\n"
   ]
  },
  {
   "cell_type": "code",
   "execution_count": 3,
   "metadata": {},
   "outputs": [],
   "source": [
    "holidaysPL=holidays.PL()\n",
    "df['date'] = df.index.date\n",
    "df['holiday']=df.date.transform(lambda x: x in holidaysPL)\n",
    "df.drop('date',axis=1,inplace=True)"
   ]
  },
  {
   "cell_type": "code",
   "execution_count": 4,
   "metadata": {},
   "outputs": [
    {
     "data": {
      "text/plain": [
       "array([datetime.date(2015, 8, 15), datetime.date(2015, 12, 26),\n",
       "       datetime.date(2017, 11, 11), datetime.date(2018, 1, 6),\n",
       "       datetime.date(2020, 8, 15), datetime.date(2020, 12, 26),\n",
       "       datetime.date(2021, 5, 1), datetime.date(2021, 12, 25),\n",
       "       datetime.date(2022, 1, 1), datetime.date(2023, 11, 11),\n",
       "       datetime.date(2024, 1, 6)], dtype=object)"
      ]
     },
     "execution_count": 4,
     "metadata": {},
     "output_type": "execute_result"
    }
   ],
   "source": [
    "np.unique(df.loc[(df.holiday==True)&(df.index.dayofweek==5)].index.date)"
   ]
  },
  {
   "cell_type": "code",
   "execution_count": 5,
   "metadata": {},
   "outputs": [],
   "source": [
    "def dataSplit(dataframe,end_train):\n",
    "    year=pd.Timedelta(365,'d')\n",
    "    train_data=df.loc[dataframe.index<end_train]\n",
    "    test_data=df.loc[(dataframe.index>=end_train)&(dataframe.index<end_train+year)]\n",
    "    return train_data,test_data\n"
   ]
  },
  {
   "cell_type": "code",
   "execution_count": 6,
   "metadata": {},
   "outputs": [],
   "source": [
    "df['TD']=df.Load-df.Load.shift(168)+df.Load.shift(192)-df.Load.shift(24)\n",
    "df['TG']=df.Load-df.Load.shift(168)+df.Load.shift(169)-df.Load.shift(1)\n",
    "df.dropna(inplace=True)"
   ]
  },
  {
   "cell_type": "code",
   "execution_count": 7,
   "metadata": {},
   "outputs": [],
   "source": [
    "end_train=pd.to_datetime('2022-02-28 10:00',utc=True)\n",
    "trainData,testData=dataSplit(df,end_train)\n",
    "day=pd.to_timedelta(1,'day')\n"
   ]
  },
  {
   "cell_type": "code",
   "execution_count": 8,
   "metadata": {},
   "outputs": [
    {
     "data": {
      "text/html": [
       "<div>\n",
       "<style scoped>\n",
       "    .dataframe tbody tr th:only-of-type {\n",
       "        vertical-align: middle;\n",
       "    }\n",
       "\n",
       "    .dataframe tbody tr th {\n",
       "        vertical-align: top;\n",
       "    }\n",
       "\n",
       "    .dataframe thead th {\n",
       "        text-align: right;\n",
       "    }\n",
       "</style>\n",
       "<table border=\"1\" class=\"dataframe\">\n",
       "  <thead>\n",
       "    <tr style=\"text-align: right;\">\n",
       "      <th></th>\n",
       "      <th>PSEforecast</th>\n",
       "      <th>Load</th>\n",
       "      <th>holiday</th>\n",
       "      <th>TD</th>\n",
       "      <th>TG</th>\n",
       "    </tr>\n",
       "    <tr>\n",
       "      <th>Time</th>\n",
       "      <th></th>\n",
       "      <th></th>\n",
       "      <th></th>\n",
       "      <th></th>\n",
       "      <th></th>\n",
       "    </tr>\n",
       "  </thead>\n",
       "  <tbody>\n",
       "    <tr>\n",
       "      <th>2015-01-10 00:00:00+01:00</th>\n",
       "      <td>17000.0</td>\n",
       "      <td>17109.375</td>\n",
       "      <td>False</td>\n",
       "      <td>-2279.250</td>\n",
       "      <td>-48.125</td>\n",
       "    </tr>\n",
       "    <tr>\n",
       "      <th>2015-01-10 01:00:00+01:00</th>\n",
       "      <td>16200.0</td>\n",
       "      <td>16438.150</td>\n",
       "      <td>False</td>\n",
       "      <td>-2234.775</td>\n",
       "      <td>-46.600</td>\n",
       "    </tr>\n",
       "    <tr>\n",
       "      <th>2015-01-10 02:00:00+01:00</th>\n",
       "      <td>15800.0</td>\n",
       "      <td>16122.300</td>\n",
       "      <td>False</td>\n",
       "      <td>-2148.525</td>\n",
       "      <td>-8.800</td>\n",
       "    </tr>\n",
       "    <tr>\n",
       "      <th>2015-01-10 03:00:00+01:00</th>\n",
       "      <td>15700.0</td>\n",
       "      <td>15987.900</td>\n",
       "      <td>False</td>\n",
       "      <td>-2082.875</td>\n",
       "      <td>26.000</td>\n",
       "    </tr>\n",
       "    <tr>\n",
       "      <th>2015-01-10 04:00:00+01:00</th>\n",
       "      <td>15700.0</td>\n",
       "      <td>15951.900</td>\n",
       "      <td>False</td>\n",
       "      <td>-2266.525</td>\n",
       "      <td>-220.775</td>\n",
       "    </tr>\n",
       "    <tr>\n",
       "      <th>...</th>\n",
       "      <td>...</td>\n",
       "      <td>...</td>\n",
       "      <td>...</td>\n",
       "      <td>...</td>\n",
       "      <td>...</td>\n",
       "    </tr>\n",
       "    <tr>\n",
       "      <th>2022-02-28 06:00:00+01:00</th>\n",
       "      <td>21950.0</td>\n",
       "      <td>21262.988</td>\n",
       "      <td>False</td>\n",
       "      <td>328.313</td>\n",
       "      <td>59.112</td>\n",
       "    </tr>\n",
       "    <tr>\n",
       "      <th>2022-02-28 07:00:00+01:00</th>\n",
       "      <td>23250.0</td>\n",
       "      <td>22960.638</td>\n",
       "      <td>False</td>\n",
       "      <td>90.263</td>\n",
       "      <td>-331.862</td>\n",
       "    </tr>\n",
       "    <tr>\n",
       "      <th>2022-02-28 08:00:00+01:00</th>\n",
       "      <td>23550.0</td>\n",
       "      <td>23395.888</td>\n",
       "      <td>False</td>\n",
       "      <td>-369.699</td>\n",
       "      <td>-878.925</td>\n",
       "    </tr>\n",
       "    <tr>\n",
       "      <th>2022-02-28 09:00:00+01:00</th>\n",
       "      <td>23500.0</td>\n",
       "      <td>23273.788</td>\n",
       "      <td>False</td>\n",
       "      <td>-575.663</td>\n",
       "      <td>-693.263</td>\n",
       "    </tr>\n",
       "    <tr>\n",
       "      <th>2022-02-28 10:00:00+01:00</th>\n",
       "      <td>23200.0</td>\n",
       "      <td>22662.650</td>\n",
       "      <td>False</td>\n",
       "      <td>-469.825</td>\n",
       "      <td>-544.675</td>\n",
       "    </tr>\n",
       "  </tbody>\n",
       "</table>\n",
       "<p>62555 rows × 5 columns</p>\n",
       "</div>"
      ],
      "text/plain": [
       "                           PSEforecast       Load  holiday        TD       TG\n",
       "Time                                                                         \n",
       "2015-01-10 00:00:00+01:00      17000.0  17109.375    False -2279.250  -48.125\n",
       "2015-01-10 01:00:00+01:00      16200.0  16438.150    False -2234.775  -46.600\n",
       "2015-01-10 02:00:00+01:00      15800.0  16122.300    False -2148.525   -8.800\n",
       "2015-01-10 03:00:00+01:00      15700.0  15987.900    False -2082.875   26.000\n",
       "2015-01-10 04:00:00+01:00      15700.0  15951.900    False -2266.525 -220.775\n",
       "...                                ...        ...      ...       ...      ...\n",
       "2022-02-28 06:00:00+01:00      21950.0  21262.988    False   328.313   59.112\n",
       "2022-02-28 07:00:00+01:00      23250.0  22960.638    False    90.263 -331.862\n",
       "2022-02-28 08:00:00+01:00      23550.0  23395.888    False  -369.699 -878.925\n",
       "2022-02-28 09:00:00+01:00      23500.0  23273.788    False  -575.663 -693.263\n",
       "2022-02-28 10:00:00+01:00      23200.0  22662.650    False  -469.825 -544.675\n",
       "\n",
       "[62555 rows x 5 columns]"
      ]
     },
     "execution_count": 8,
     "metadata": {},
     "output_type": "execute_result"
    }
   ],
   "source": [
    "trainData"
   ]
  },
  {
   "cell_type": "code",
   "execution_count": 9,
   "metadata": {},
   "outputs": [],
   "source": [
    "pVal=[0,1,2,3,4,6,8,10,16,24]\n",
    "dVal=[0,1]\n",
    "qVal=[0,1,2,3,4,6,8,10,16,24]\n",
    "orders=[]\n",
    "testMAE=[]\n",
    "testMSE=[]\n",
    "testMAPE=[]\n",
    "trainMAE=[]\n",
    "trainMSE=[]\n",
    "trainMAPE=[]"
   ]
  },
  {
   "cell_type": "code",
   "execution_count": 10,
   "metadata": {},
   "outputs": [],
   "source": [
    "def grid(column,ex): #enter string contaning names of load data and exogoneus variable\n",
    "    \n",
    "    try:\n",
    "        for d in dVal:\n",
    "            for p in pVal:\n",
    "                for q in qVal:\n",
    "                    \n",
    "                    order=[p,d,q]\n",
    "                    \n",
    "                    model=ARIMA(order=order,freq='H')\n",
    "                    result=model.fit(trainData[column],exog=trainData[ex])\n",
    "\n",
    "                        \n",
    "                    trainPredictions = result.get_prediction(start=0, end=len(trainData)-1, exog=trainData[ex])\n",
    "                    testPredictions=result.get_forecast(steps=len(testData), exog=testData[ex])\n",
    "\n",
    "                    trainMSE.append(mean_squared_error(trainPredictions.predicted_mean,trainData[column]))\n",
    "                    testMSE.append(mean_squared_error(testPredictions.predicted_mean,testData[column]))\n",
    "\n",
    "                    trainMAE.append(mean_absolute_error(trainPredictions.predicted_mean,trainData[column]))\n",
    "                    testMAE.append(mean_absolute_error(testPredictions.predicted_mean,testData[column]))\n",
    "                    \n",
    "                    trainMAPE.append(mean_absolute_percentage_error(trainPredictions.predicted_mean,trainData[column]))\n",
    "                    testMAPE.append(mean_absolute_percentage_error(testPredictions.predicted_mean,testData[column]))\n",
    "                    orders.append(order)\n",
    "                    del trainPredictions, testPredictions, result\n",
    "                    gc.collect()\n",
    "                    print(order)\n",
    "                    \n",
    "\n",
    "    except:\n",
    "        with open ('error.txt','a') as f:\n",
    "            f.write(str(p)+str(d)+str(q)+'\\n')\n",
    "    data = {\n",
    "    'order':orders,\n",
    "    'trainMAPE': trainMAPE,\n",
    "    'trainMSE': trainMSE,\n",
    "    'trainMAE': trainMAE,\n",
    "    'testMAPE':testMAPE,\n",
    "    'testMSE': testMSE,\n",
    "    'testMAE': testMAE}\n",
    "    nameCsv=column+'metrics.csv'\n",
    "    dataframe=pd.DataFrame(data)\n",
    "    dataframe.to_csv(nameCsv)\n",
    "    return dataframe"
   ]
  },
  {
   "cell_type": "code",
   "execution_count": 11,
   "metadata": {},
   "outputs": [
    {
     "data": {
      "text/html": [
       "<div>\n",
       "<style scoped>\n",
       "    .dataframe tbody tr th:only-of-type {\n",
       "        vertical-align: middle;\n",
       "    }\n",
       "\n",
       "    .dataframe tbody tr th {\n",
       "        vertical-align: top;\n",
       "    }\n",
       "\n",
       "    .dataframe thead th {\n",
       "        text-align: right;\n",
       "    }\n",
       "</style>\n",
       "<table border=\"1\" class=\"dataframe\">\n",
       "  <thead>\n",
       "    <tr style=\"text-align: right;\">\n",
       "      <th></th>\n",
       "      <th>order</th>\n",
       "      <th>trainMAPE</th>\n",
       "      <th>trainMSE</th>\n",
       "      <th>trainMAE</th>\n",
       "      <th>testMAPE</th>\n",
       "      <th>testMSE</th>\n",
       "      <th>testMAE</th>\n",
       "    </tr>\n",
       "  </thead>\n",
       "  <tbody>\n",
       "  </tbody>\n",
       "</table>\n",
       "</div>"
      ],
      "text/plain": [
       "Empty DataFrame\n",
       "Columns: [order, trainMAPE, trainMSE, trainMAE, testMAPE, testMSE, testMAE]\n",
       "Index: []"
      ]
     },
     "execution_count": 11,
     "metadata": {},
     "output_type": "execute_result"
    }
   ],
   "source": [
    "grid('TD','holiday')"
   ]
  },
  {
   "cell_type": "code",
   "execution_count": 12,
   "metadata": {},
   "outputs": [
    {
     "data": {
      "text/html": [
       "<div>\n",
       "<style scoped>\n",
       "    .dataframe tbody tr th:only-of-type {\n",
       "        vertical-align: middle;\n",
       "    }\n",
       "\n",
       "    .dataframe tbody tr th {\n",
       "        vertical-align: top;\n",
       "    }\n",
       "\n",
       "    .dataframe thead th {\n",
       "        text-align: right;\n",
       "    }\n",
       "</style>\n",
       "<table border=\"1\" class=\"dataframe\">\n",
       "  <thead>\n",
       "    <tr style=\"text-align: right;\">\n",
       "      <th></th>\n",
       "      <th>order</th>\n",
       "      <th>trainMAPE</th>\n",
       "      <th>trainMSE</th>\n",
       "      <th>trainMAE</th>\n",
       "      <th>testMAPE</th>\n",
       "      <th>testMSE</th>\n",
       "      <th>testMAE</th>\n",
       "    </tr>\n",
       "  </thead>\n",
       "  <tbody>\n",
       "  </tbody>\n",
       "</table>\n",
       "</div>"
      ],
      "text/plain": [
       "Empty DataFrame\n",
       "Columns: [order, trainMAPE, trainMSE, trainMAE, testMAPE, testMSE, testMAE]\n",
       "Index: []"
      ]
     },
     "execution_count": 12,
     "metadata": {},
     "output_type": "execute_result"
    }
   ],
   "source": [
    "grid('TG','holiday')"
   ]
  }
 ],
 "metadata": {
  "kernelspec": {
   "display_name": "datascience",
   "language": "python",
   "name": "python3"
  },
  "language_info": {
   "codemirror_mode": {
    "name": "ipython",
    "version": 3
   },
   "file_extension": ".py",
   "mimetype": "text/x-python",
   "name": "python",
   "nbconvert_exporter": "python",
   "pygments_lexer": "ipython3",
   "version": "3.10.2"
  }
 },
 "nbformat": 4,
 "nbformat_minor": 2
}
