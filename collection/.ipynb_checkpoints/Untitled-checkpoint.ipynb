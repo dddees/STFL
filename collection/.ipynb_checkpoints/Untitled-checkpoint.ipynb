{
 "cells": [
  {
   "cell_type": "code",
   "execution_count": 42,
   "id": "ea94f921",
   "metadata": {},
   "outputs": [],
   "source": [
    "import pandas as pd\n",
    "from io import StringIO\n",
    "import re"
   ]
  },
  {
   "cell_type": "code",
   "execution_count": null,
   "id": "bde316eb",
   "metadata": {},
   "outputs": [],
   "source": [
    "with file open as f"
   ]
  },
  {
   "cell_type": "code",
   "execution_count": 65,
   "id": "f89c5e5e",
   "metadata": {},
   "outputs": [
    {
     "data": {
      "text/html": [
       "<div>\n",
       "<style scoped>\n",
       "    .dataframe tbody tr th:only-of-type {\n",
       "        vertical-align: middle;\n",
       "    }\n",
       "\n",
       "    .dataframe tbody tr th {\n",
       "        vertical-align: top;\n",
       "    }\n",
       "\n",
       "    .dataframe thead th {\n",
       "        text-align: right;\n",
       "    }\n",
       "</style>\n",
       "<table border=\"1\" class=\"dataframe\">\n",
       "  <thead>\n",
       "    <tr style=\"text-align: right;\">\n",
       "      <th></th>\n",
       "      <th>Data</th>\n",
       "      <th>Godz.</th>\n",
       "      <th>Dobowa prognoza zapotrzebowania KSE</th>\n",
       "      <th>Rzeczywiste zapotrzebowanie KSE</th>\n",
       "    </tr>\n",
       "  </thead>\n",
       "  <tbody>\n",
       "    <tr>\n",
       "      <th>24</th>\n",
       "      <td>20230102</td>\n",
       "      <td>1</td>\n",
       "      <td>13750</td>\n",
       "      <td>13061,350</td>\n",
       "    </tr>\n",
       "    <tr>\n",
       "      <th>25</th>\n",
       "      <td>20230102</td>\n",
       "      <td>2</td>\n",
       "      <td>13200</td>\n",
       "      <td>12670,100</td>\n",
       "    </tr>\n",
       "    <tr>\n",
       "      <th>26</th>\n",
       "      <td>20230102</td>\n",
       "      <td>3</td>\n",
       "      <td>12900</td>\n",
       "      <td>12463,013</td>\n",
       "    </tr>\n",
       "    <tr>\n",
       "      <th>27</th>\n",
       "      <td>20230102</td>\n",
       "      <td>4</td>\n",
       "      <td>12950</td>\n",
       "      <td>12498,000</td>\n",
       "    </tr>\n",
       "    <tr>\n",
       "      <th>28</th>\n",
       "      <td>20230102</td>\n",
       "      <td>5</td>\n",
       "      <td>13750</td>\n",
       "      <td>12940,938</td>\n",
       "    </tr>\n",
       "    <tr>\n",
       "      <th>...</th>\n",
       "      <td>...</td>\n",
       "      <td>...</td>\n",
       "      <td>...</td>\n",
       "      <td>...</td>\n",
       "    </tr>\n",
       "    <tr>\n",
       "      <th>235</th>\n",
       "      <td>20230102</td>\n",
       "      <td>20</td>\n",
       "      <td>22950</td>\n",
       "      <td>21579,475</td>\n",
       "    </tr>\n",
       "    <tr>\n",
       "      <th>236</th>\n",
       "      <td>20230102</td>\n",
       "      <td>21</td>\n",
       "      <td>22600</td>\n",
       "      <td>21132,613</td>\n",
       "    </tr>\n",
       "    <tr>\n",
       "      <th>237</th>\n",
       "      <td>20230102</td>\n",
       "      <td>22</td>\n",
       "      <td>21550</td>\n",
       "      <td>19844,125</td>\n",
       "    </tr>\n",
       "    <tr>\n",
       "      <th>238</th>\n",
       "      <td>20230102</td>\n",
       "      <td>23</td>\n",
       "      <td>20050</td>\n",
       "      <td>18407,213</td>\n",
       "    </tr>\n",
       "    <tr>\n",
       "      <th>239</th>\n",
       "      <td>20230102</td>\n",
       "      <td>24</td>\n",
       "      <td>18600</td>\n",
       "      <td>17091,938</td>\n",
       "    </tr>\n",
       "  </tbody>\n",
       "</table>\n",
       "<p>216 rows × 4 columns</p>\n",
       "</div>"
      ],
      "text/plain": [
       "         Data  Godz.  Dobowa prognoza zapotrzebowania KSE  \\\n",
       "24   20230102      1                                13750   \n",
       "25   20230102      2                                13200   \n",
       "26   20230102      3                                12900   \n",
       "27   20230102      4                                12950   \n",
       "28   20230102      5                                13750   \n",
       "..        ...    ...                                  ...   \n",
       "235  20230102     20                                22950   \n",
       "236  20230102     21                                22600   \n",
       "237  20230102     22                                21550   \n",
       "238  20230102     23                                20050   \n",
       "239  20230102     24                                18600   \n",
       "\n",
       "    Rzeczywiste zapotrzebowanie KSE  \n",
       "24                        13061,350  \n",
       "25                        12670,100  \n",
       "26                        12463,013  \n",
       "27                        12498,000  \n",
       "28                        12940,938  \n",
       "..                              ...  \n",
       "235                       21579,475  \n",
       "236                       21132,613  \n",
       "237                       19844,125  \n",
       "238                       18407,213  \n",
       "239                       17091,938  \n",
       "\n",
       "[216 rows x 4 columns]"
      ]
     },
     "execution_count": 65,
     "metadata": {},
     "output_type": "execute_result"
    }
   ],
   "source": [
    "df=pd.read_csv('demand.csv',sep=';')\n",
    "df.loc[24:48]\n"
   ]
  },
  {
   "cell_type": "code",
   "execution_count": null,
   "id": "0b2d62d4",
   "metadata": {},
   "outputs": [],
   "source": []
  },
  {
   "cell_type": "code",
   "execution_count": 36,
   "id": "7911aa71",
   "metadata": {},
   "outputs": [],
   "source": []
  },
  {
   "cell_type": "code",
   "execution_count": null,
   "id": "95ca441e",
   "metadata": {},
   "outputs": [],
   "source": []
  },
  {
   "cell_type": "code",
   "execution_count": 60,
   "id": "4dac3170",
   "metadata": {},
   "outputs": [
    {
     "name": "stdout",
     "output_type": "stream",
     "text": [
      "['', '20230101;1;14037;13271,825', '20230101;2;13136;12508,713', '20230101;3;12580;11845,200', '20230101;4;12110;11462,400', '20230101;5;11966;11454,200', '20230101;6;12004;11560,600', '20230101;7;12123;11651,363', '20230101;8;12033;11707,075', '20230101;9;11945;11897,463', '20230101;10;12375;12449,150', '20230101;11;12980;13041,713', '20230101;12;13533;13588,388', '20230101;13;14068;14026,550', '20230101;14;14662;14417,113', '20230101;15;14870;14699,200', '20230101;16;15100;15122,850', '20230101;17;16545;16191,013', '20230101;18;17002;16481,663', '20230101;19;17078;16577,463', '20230101;20;17097;16506,950', '20230101;21;16855;16161,313', '20230101;22;16237;15468,238', '20230101;23;15549;14698,225', '20230101;24;14589;13749,238', '20230102;1;13750;13061,350', '20230102;2;13200;12670,100', '20230102;3;12900;12463,013', '20230102;4;12950;12498,000', '20230102;5;13750;12940,938', '20230102;6;15500;14033,350', '20230102;7;19150;17060,163', '20230102;8;20350;19173,663', '20230102;9;21450;20275,263', '20230102;10;22250;20898,725', '20230102;11;22600;20931,363', '20230102;12;22750;20994,688', '20230102;13;23000;21083,675', '20230102;14;23300;21114,675', '20230102;15;22800;20818,250', '20230102;16;22850;21139,463', '20230102;17;23500;22016,213', '20230102;18;23450;22085,575', '20230102;19;23150;21804,400', '20230102;20;22950;21579,475', '20230102;21;22600;21132,613', '20230102;22;21550;19844,125', '20230102;23;20050;18407,213', '20230102;24;18600;17091,938', '']\n"
     ]
    }
   ],
   "source": [
    "\n"
   ]
  }
 ],
 "metadata": {
  "kernelspec": {
   "display_name": "Python 3 (ipykernel)",
   "language": "python",
   "name": "python3"
  },
  "language_info": {
   "codemirror_mode": {
    "name": "ipython",
    "version": 3
   },
   "file_extension": ".py",
   "mimetype": "text/x-python",
   "name": "python",
   "nbconvert_exporter": "python",
   "pygments_lexer": "ipython3",
   "version": "3.10.12"
  }
 },
 "nbformat": 4,
 "nbformat_minor": 5
}
