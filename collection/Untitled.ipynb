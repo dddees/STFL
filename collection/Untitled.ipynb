{
 "cells": [
  {
   "cell_type": "code",
   "execution_count": 1,
   "id": "ea94f921",
   "metadata": {},
   "outputs": [],
   "source": [
    "import pandas as pd\n",
    "import numpy as np\n"
   ]
  },
  {
   "cell_type": "code",
   "execution_count": 2,
   "id": "bde316eb",
   "metadata": {},
   "outputs": [
    {
     "name": "stderr",
     "output_type": "stream",
     "text": [
      "/tmp/ipykernel_14102/800761036.py:1: DtypeWarning: Columns (2) have mixed types. Specify dtype option on import or set low_memory=False.\n",
      "  df=pd.read_csv('demandd.csv',sep=';')\n"
     ]
    }
   ],
   "source": [
    "df=pd.read_csv('demandd.csv',sep=';')"
   ]
  },
  {
   "cell_type": "code",
   "execution_count": 3,
   "id": "f89c5e5e",
   "metadata": {},
   "outputs": [],
   "source": [
    "defecated=df[df['Dobowa prognoza zapotrzebowania KSE']=='-']\n",
    "df=df[df['Rzeczywiste zapotrzebowanie KSE']!='-']\n",
    "df=df[df['Dobowa prognoza zapotrzebowania KSE']!='-']\n",
    "\n",
    "df=df.rename(columns={'Dobowa prognoza zapotrzebowania KSE':'PSEforecast','Rzeczywiste zapotrzebowanie KSE':'Load'})\n",
    "df['Load']=df.Load.transform(lambda x: x.replace(',','.')).astype(float)\n",
    "df['PSEforecast']=df.PSEforecast.astype(float)\n",
    "df['Data']=df.Data.astype(str)\n",
    "df=df.drop_duplicates()\n",
    "df.reset_index(inplace=True)"
   ]
  },
  {
   "cell_type": "code",
   "execution_count": 4,
   "id": "0b2d62d4",
   "metadata": {},
   "outputs": [
    {
     "data": {
      "text/plain": [
       "array(['1', '2', '3', '4', '5', '6', '7', '8', '9', '10', '11', '12',\n",
       "       '13', '14', '15', '16', '17', '18', '19', '20', '21', '22', '23',\n",
       "       '24', '2A'], dtype=object)"
      ]
     },
     "execution_count": 4,
     "metadata": {},
     "output_type": "execute_result"
    }
   ],
   "source": [
    "df['Godz.'].unique()"
   ]
  },
  {
   "cell_type": "code",
   "execution_count": 5,
   "id": "7911aa71",
   "metadata": {},
   "outputs": [],
   "source": [
    "df.loc[df['Godz.']=='2A','Godz.']=2\n",
    "df['Godz.']=(df['Godz.'].astype(int)-1).astype(str)"
   ]
  },
  {
   "cell_type": "code",
   "execution_count": 6,
   "id": "95ca441e",
   "metadata": {},
   "outputs": [],
   "source": [
    "df['Time']=pd.to_datetime(df['Data']+df['Godz.'],format='%Y%m%d%H',errors='coerce')"
   ]
  },
  {
   "cell_type": "code",
   "execution_count": 7,
   "id": "4dac3170",
   "metadata": {},
   "outputs": [],
   "source": [
    "indexes_to_change=[7079, 15931, 24667, 33403, 42139, 50875, 59777, 68513, 77249]\n",
    "indexes_to_change2=[x-1 for x in indexes_to_change]\n",
    "\n",
    "\n",
    "\n"
   ]
  },
  {
   "cell_type": "code",
   "execution_count": 8,
   "id": "c6b072a4",
   "metadata": {},
   "outputs": [],
   "source": [
    "df['error']=0\n",
    "for i in indexes_to_change:\n",
    "    df.loc[i,'error']=1"
   ]
  },
  {
   "cell_type": "code",
   "execution_count": 9,
   "id": "e9618738",
   "metadata": {},
   "outputs": [],
   "source": [
    "df['Time']=df.Time.dt.tz_localize('Europe/Warsaw',ambiguous=df.error)\n"
   ]
  },
  {
   "cell_type": "code",
   "execution_count": 10,
   "id": "3efdec31",
   "metadata": {},
   "outputs": [
    {
     "name": "stderr",
     "output_type": "stream",
     "text": [
      "/tmp/ipykernel_14102/4265865675.py:3: FutureWarning: Setting an item of incompatible dtype is deprecated and will raise in a future error of pandas. Value '<DatetimeArray>\n",
      "['2015-10-25 02:00:00+01:00', '2016-10-30 02:00:00+01:00',\n",
      " '2017-10-29 02:00:00+01:00', '2018-10-28 02:00:00+01:00',\n",
      " '2019-10-27 02:00:00+01:00', '2020-10-25 02:00:00+01:00',\n",
      " '2021-10-31 02:00:00+01:00', '2022-10-30 02:00:00+01:00',\n",
      " '2023-10-29 02:00:00+01:00']\n",
      "Length: 9, dtype: datetime64[ns, UTC+01:00]' has dtype incompatible with int64, please explicitly cast to a compatible dtype first.\n",
      "  df.loc[indexes_to_change,'Timex']=df.loc[indexes_to_change,'Time'].dt.tz_convert('+01:00')+hour\n"
     ]
    }
   ],
   "source": [
    "df['Timex']=0\n",
    "hour=pd.Timedelta(1,unit='h')\n",
    "df.loc[indexes_to_change,'Timex']=df.loc[indexes_to_change,'Time'].dt.tz_convert('+01:00')+hour\n",
    "df.loc[indexes_to_change2,'Timex']=df.loc[indexes_to_change2,'Time'].dt.tz_convert('+01:00')+hour\n"
   ]
  },
  {
   "cell_type": "code",
   "execution_count": 11,
   "id": "6b18c5e9",
   "metadata": {},
   "outputs": [],
   "source": [
    "df.loc[df.Timex==0,'Timex']=df.Time\n",
    "df.drop(['index','Time','error','Data'],axis=1,inplace=True)\n",
    "df.rename(columns={'Godz.':'Hour','Timex':'Time'},inplace=True)\n"
   ]
  },
  {
   "cell_type": "code",
   "execution_count": 12,
   "id": "d97bd490",
   "metadata": {},
   "outputs": [],
   "source": [
    "df['Time']=pd.to_datetime(df.Time,utc=True)"
   ]
  },
  {
   "cell_type": "code",
   "execution_count": 13,
   "id": "3016176d",
   "metadata": {},
   "outputs": [],
   "source": [
    "df.set_index('Time',drop=True,inplace=True)\n"
   ]
  },
  {
   "cell_type": "code",
   "execution_count": 14,
   "id": "e9919242",
   "metadata": {},
   "outputs": [],
   "source": [
    "dff=df.reindex(pd.date_range(df.index.min(),df.index.max(),freq=hour))\n",
    "dff.drop(dff.columns,axis=1,inplace=True)\n",
    "df=df.join(dff, how='right', rsuffix='_left')"
   ]
  },
  {
   "cell_type": "code",
   "execution_count": 17,
   "id": "d02057c6",
   "metadata": {},
   "outputs": [
    {
     "data": {
      "text/html": [
       "<div>\n",
       "<style scoped>\n",
       "    .dataframe tbody tr th:only-of-type {\n",
       "        vertical-align: middle;\n",
       "    }\n",
       "\n",
       "    .dataframe tbody tr th {\n",
       "        vertical-align: top;\n",
       "    }\n",
       "\n",
       "    .dataframe thead th {\n",
       "        text-align: right;\n",
       "    }\n",
       "</style>\n",
       "<table border=\"1\" class=\"dataframe\">\n",
       "  <thead>\n",
       "    <tr style=\"text-align: right;\">\n",
       "      <th></th>\n",
       "      <th>Hour</th>\n",
       "      <th>PSEforecast</th>\n",
       "      <th>Load</th>\n",
       "    </tr>\n",
       "  </thead>\n",
       "  <tbody>\n",
       "    <tr>\n",
       "      <th>2015-03-10 20:00:00+00:00</th>\n",
       "      <td>NaN</td>\n",
       "      <td>20634.500000</td>\n",
       "      <td>20641.681250</td>\n",
       "    </tr>\n",
       "    <tr>\n",
       "      <th>2015-03-10 21:00:00+00:00</th>\n",
       "      <td>NaN</td>\n",
       "      <td>19317.000000</td>\n",
       "      <td>19237.837500</td>\n",
       "    </tr>\n",
       "    <tr>\n",
       "      <th>2015-03-10 22:00:00+00:00</th>\n",
       "      <td>NaN</td>\n",
       "      <td>17999.500000</td>\n",
       "      <td>17833.993750</td>\n",
       "    </tr>\n",
       "    <tr>\n",
       "      <th>2015-04-13 22:00:00+00:00</th>\n",
       "      <td>NaN</td>\n",
       "      <td>17458.000000</td>\n",
       "      <td>17158.354000</td>\n",
       "    </tr>\n",
       "    <tr>\n",
       "      <th>2015-04-13 23:00:00+00:00</th>\n",
       "      <td>NaN</td>\n",
       "      <td>17416.000000</td>\n",
       "      <td>17116.508000</td>\n",
       "    </tr>\n",
       "    <tr>\n",
       "      <th>...</th>\n",
       "      <td>...</td>\n",
       "      <td>...</td>\n",
       "      <td>...</td>\n",
       "    </tr>\n",
       "    <tr>\n",
       "      <th>2016-10-04 19:00:00+00:00</th>\n",
       "      <td>NaN</td>\n",
       "      <td>17673.076923</td>\n",
       "      <td>17346.683077</td>\n",
       "    </tr>\n",
       "    <tr>\n",
       "      <th>2016-10-04 20:00:00+00:00</th>\n",
       "      <td>NaN</td>\n",
       "      <td>17265.384615</td>\n",
       "      <td>16956.751385</td>\n",
       "    </tr>\n",
       "    <tr>\n",
       "      <th>2016-10-04 21:00:00+00:00</th>\n",
       "      <td>NaN</td>\n",
       "      <td>16857.692308</td>\n",
       "      <td>16566.819692</td>\n",
       "    </tr>\n",
       "    <tr>\n",
       "      <th>2021-02-10 21:00:00+00:00</th>\n",
       "      <td>NaN</td>\n",
       "      <td>23366.666667</td>\n",
       "      <td>22628.029333</td>\n",
       "    </tr>\n",
       "    <tr>\n",
       "      <th>2021-02-10 22:00:00+00:00</th>\n",
       "      <td>NaN</td>\n",
       "      <td>21683.333333</td>\n",
       "      <td>21392.108667</td>\n",
       "    </tr>\n",
       "  </tbody>\n",
       "</table>\n",
       "<p>81 rows × 3 columns</p>\n",
       "</div>"
      ],
      "text/plain": [
       "                          Hour   PSEforecast          Load\n",
       "2015-03-10 20:00:00+00:00  NaN  20634.500000  20641.681250\n",
       "2015-03-10 21:00:00+00:00  NaN  19317.000000  19237.837500\n",
       "2015-03-10 22:00:00+00:00  NaN  17999.500000  17833.993750\n",
       "2015-04-13 22:00:00+00:00  NaN  17458.000000  17158.354000\n",
       "2015-04-13 23:00:00+00:00  NaN  17416.000000  17116.508000\n",
       "...                        ...           ...           ...\n",
       "2016-10-04 19:00:00+00:00  NaN  17673.076923  17346.683077\n",
       "2016-10-04 20:00:00+00:00  NaN  17265.384615  16956.751385\n",
       "2016-10-04 21:00:00+00:00  NaN  16857.692308  16566.819692\n",
       "2021-02-10 21:00:00+00:00  NaN  23366.666667  22628.029333\n",
       "2021-02-10 22:00:00+00:00  NaN  21683.333333  21392.108667\n",
       "\n",
       "[81 rows x 3 columns]"
      ]
     },
     "execution_count": 17,
     "metadata": {},
     "output_type": "execute_result"
    }
   ],
   "source": [
    "\n",
    "\n",
    "df.Load.interpolate(method='linear',axis=0,inplace=True)\n",
    "df['PSEforecast'].interpolate(method='linear',axis=0,inplace=True)\n",
    "df[df.Hour.isna()==True]\n"
   ]
  },
  {
   "cell_type": "code",
   "execution_count": 30,
   "id": "c875aade",
   "metadata": {},
   "outputs": [],
   "source": [
    "df.drop('Hour',axis=1,inplace=True)"
   ]
  },
  {
   "cell_type": "code",
   "execution_count": 32,
   "id": "c44c181d",
   "metadata": {},
   "outputs": [],
   "source": [
    "df.to_csv('Load.csv')"
   ]
  }
 ],
 "metadata": {
  "kernelspec": {
   "display_name": "Python 3 (ipykernel)",
   "language": "python",
   "name": "python3"
  },
  "language_info": {
   "codemirror_mode": {
    "name": "ipython",
    "version": 3
   },
   "file_extension": ".py",
   "mimetype": "text/x-python",
   "name": "python",
   "nbconvert_exporter": "python",
   "pygments_lexer": "ipython3",
   "version": "3.10.2"
  }
 },
 "nbformat": 4,
 "nbformat_minor": 5
}
